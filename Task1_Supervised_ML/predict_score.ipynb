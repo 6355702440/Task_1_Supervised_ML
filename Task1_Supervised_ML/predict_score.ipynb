{
  "nbformat": 4,
  "nbformat_minor": 0,
  "metadata": {
    "kernelspec": {
      "display_name": "Python 3.7.4 64-bit ('base': conda)",
      "language": "python",
      "name": "python37464bitbaseconda99eb5bcf136e447ea7086c32bc046237"
    },
    "language_info": {
      "codemirror_mode": {
        "name": "ipython",
        "version": 3
      },
      "file_extension": ".py",
      "mimetype": "text/x-python",
      "name": "python",
      "nbconvert_exporter": "python",
      "pygments_lexer": "ipython3",
      "version": "3.7.7"
    },
    "colab": {
      "name": "predict_score.ipynb",
      "provenance": [],
      "include_colab_link": true
    }
  },
  "cells": [
    {
      "cell_type": "markdown",
      "metadata": {
        "id": "view-in-github",
        "colab_type": "text"
      },
      "source": [
        "<a href=\"https://colab.research.google.com/github/dhara-parikh/The_Sparks_Foundation/blob/master/Task1_Supervised_ML/predict_score.ipynb\" target=\"_parent\"><img src=\"https://colab.research.google.com/assets/colab-badge.svg\" alt=\"Open In Colab\"/></a>"
      ]
    },
    {
      "cell_type": "markdown",
      "metadata": {
        "id": "MJDn7GoQI8zT"
      },
      "source": [
        "<font color=\"firebrick\"><center><h1> Grip At the Sparks Foundation</h1></center></font>"
      ]
    },
    {
      "cell_type": "markdown",
      "metadata": {
        "id": "iNV-7PQQI8zw"
      },
      "source": [
        "<font color=\"#0066cc\"><h3>Name : Dhara BharatKumar Parikh </h3><font>"
      ]
    },
    {
      "cell_type": "markdown",
      "metadata": {
        "id": "Rn4ued3tI8zy"
      },
      "source": [
        "## Task 1 --> Prediction using Supervised Learning"
      ]
    },
    {
      "cell_type": "markdown",
      "metadata": {
        "id": "bNToOi0rI8zz"
      },
      "source": [
        "<h3>Link for Dataset</h3> - https://raw.githubusercontent.com/AdiPersonalWorks/Random/master/student_scores%20-%20student_scores.csv\n",
        "\n",
        "<h3>Dataset</h3>\n",
        "<ul>\n",
        "    <li>No. of study hours</li>\n",
        "    <li>Scores</li>\n",
        "</ul>\n"
      ]
    },
    {
      "cell_type": "markdown",
      "metadata": {
        "id": "nLLwwBuyI8z1"
      },
      "source": [
        "Predict the percentage of a student based on number of study hours"
      ]
    },
    {
      "cell_type": "markdown",
      "metadata": {
        "id": "9hRNds8yI8z3"
      },
      "source": [
        "<h2 style=\"color:#10124d\">Importing all libraries</h2>"
      ]
    },
    {
      "cell_type": "code",
      "metadata": {
        "id": "mmpIBkmPI8z5"
      },
      "source": [
        "import pandas as pd\n",
        "import numpy as np\n",
        "import matplotlib.pyplot as plt\n",
        "import seaborn as sns\n",
        "%matplotlib inline"
      ],
      "execution_count": null,
      "outputs": []
    },
    {
      "cell_type": "markdown",
      "metadata": {
        "id": "TVoZFAxII8z8"
      },
      "source": [
        "<h2 style=\"color:#10124d\">Reading Data from link</h2>"
      ]
    },
    {
      "cell_type": "code",
      "metadata": {
        "id": "rsvkBnWEI8z9"
      },
      "source": [
        "df = pd.read_csv('http://bit.ly/w-data')"
      ],
      "execution_count": null,
      "outputs": []
    },
    {
      "cell_type": "code",
      "metadata": {
        "colab": {
          "base_uri": "https://localhost:8080/",
          "height": 204
        },
        "id": "OfUCAxMtI8z-",
        "outputId": "f2ea7400-e877-471f-f59c-74aa8b3da19d"
      },
      "source": [
        "df.head()"
      ],
      "execution_count": null,
      "outputs": [
        {
          "output_type": "execute_result",
          "data": {
            "text/html": [
              "<div>\n",
              "<style scoped>\n",
              "    .dataframe tbody tr th:only-of-type {\n",
              "        vertical-align: middle;\n",
              "    }\n",
              "\n",
              "    .dataframe tbody tr th {\n",
              "        vertical-align: top;\n",
              "    }\n",
              "\n",
              "    .dataframe thead th {\n",
              "        text-align: right;\n",
              "    }\n",
              "</style>\n",
              "<table border=\"1\" class=\"dataframe\">\n",
              "  <thead>\n",
              "    <tr style=\"text-align: right;\">\n",
              "      <th></th>\n",
              "      <th>Hours</th>\n",
              "      <th>Scores</th>\n",
              "    </tr>\n",
              "  </thead>\n",
              "  <tbody>\n",
              "    <tr>\n",
              "      <th>0</th>\n",
              "      <td>2.5</td>\n",
              "      <td>21</td>\n",
              "    </tr>\n",
              "    <tr>\n",
              "      <th>1</th>\n",
              "      <td>5.1</td>\n",
              "      <td>47</td>\n",
              "    </tr>\n",
              "    <tr>\n",
              "      <th>2</th>\n",
              "      <td>3.2</td>\n",
              "      <td>27</td>\n",
              "    </tr>\n",
              "    <tr>\n",
              "      <th>3</th>\n",
              "      <td>8.5</td>\n",
              "      <td>75</td>\n",
              "    </tr>\n",
              "    <tr>\n",
              "      <th>4</th>\n",
              "      <td>3.5</td>\n",
              "      <td>30</td>\n",
              "    </tr>\n",
              "  </tbody>\n",
              "</table>\n",
              "</div>"
            ],
            "text/plain": [
              "   Hours  Scores\n",
              "0    2.5      21\n",
              "1    5.1      47\n",
              "2    3.2      27\n",
              "3    8.5      75\n",
              "4    3.5      30"
            ]
          },
          "metadata": {
            "tags": []
          },
          "execution_count": 3
        }
      ]
    },
    {
      "cell_type": "markdown",
      "metadata": {
        "id": "Da3J6vJtI80C"
      },
      "source": [
        "<h2 style=\"color:#10124d\">Exploratory Data Analysis and Data Treatment</h2>"
      ]
    },
    {
      "cell_type": "code",
      "metadata": {
        "colab": {
          "base_uri": "https://localhost:8080/"
        },
        "id": "DpvhhYIyI80D",
        "outputId": "66655f85-c7b6-4364-cbb8-6931ab8837ec"
      },
      "source": [
        "df.shape"
      ],
      "execution_count": null,
      "outputs": [
        {
          "output_type": "execute_result",
          "data": {
            "text/plain": [
              "(25, 2)"
            ]
          },
          "metadata": {
            "tags": []
          },
          "execution_count": 4
        }
      ]
    },
    {
      "cell_type": "code",
      "metadata": {
        "id": "Ci5NBhOJI80E",
        "colab": {
          "base_uri": "https://localhost:8080/"
        },
        "outputId": "0280a8d1-660a-47d1-f27a-34985c07da47"
      },
      "source": [
        "df.info()"
      ],
      "execution_count": null,
      "outputs": [
        {
          "output_type": "stream",
          "text": [
            "<class 'pandas.core.frame.DataFrame'>\n",
            "RangeIndex: 25 entries, 0 to 24\n",
            "Data columns (total 2 columns):\n",
            " #   Column  Non-Null Count  Dtype  \n",
            "---  ------  --------------  -----  \n",
            " 0   Hours   25 non-null     float64\n",
            " 1   Scores  25 non-null     int64  \n",
            "dtypes: float64(1), int64(1)\n",
            "memory usage: 528.0 bytes\n"
          ],
          "name": "stdout"
        }
      ]
    },
    {
      "cell_type": "code",
      "metadata": {
        "id": "EmbpTKg6I80H",
        "colab": {
          "base_uri": "https://localhost:8080/",
          "height": 297
        },
        "outputId": "e4c2307e-7e0d-4a7d-c832-03d9c8194e69"
      },
      "source": [
        "df.describe()"
      ],
      "execution_count": null,
      "outputs": [
        {
          "output_type": "execute_result",
          "data": {
            "text/html": [
              "<div>\n",
              "<style scoped>\n",
              "    .dataframe tbody tr th:only-of-type {\n",
              "        vertical-align: middle;\n",
              "    }\n",
              "\n",
              "    .dataframe tbody tr th {\n",
              "        vertical-align: top;\n",
              "    }\n",
              "\n",
              "    .dataframe thead th {\n",
              "        text-align: right;\n",
              "    }\n",
              "</style>\n",
              "<table border=\"1\" class=\"dataframe\">\n",
              "  <thead>\n",
              "    <tr style=\"text-align: right;\">\n",
              "      <th></th>\n",
              "      <th>Hours</th>\n",
              "      <th>Scores</th>\n",
              "    </tr>\n",
              "  </thead>\n",
              "  <tbody>\n",
              "    <tr>\n",
              "      <th>count</th>\n",
              "      <td>25.000000</td>\n",
              "      <td>25.000000</td>\n",
              "    </tr>\n",
              "    <tr>\n",
              "      <th>mean</th>\n",
              "      <td>5.012000</td>\n",
              "      <td>51.480000</td>\n",
              "    </tr>\n",
              "    <tr>\n",
              "      <th>std</th>\n",
              "      <td>2.525094</td>\n",
              "      <td>25.286887</td>\n",
              "    </tr>\n",
              "    <tr>\n",
              "      <th>min</th>\n",
              "      <td>1.100000</td>\n",
              "      <td>17.000000</td>\n",
              "    </tr>\n",
              "    <tr>\n",
              "      <th>25%</th>\n",
              "      <td>2.700000</td>\n",
              "      <td>30.000000</td>\n",
              "    </tr>\n",
              "    <tr>\n",
              "      <th>50%</th>\n",
              "      <td>4.800000</td>\n",
              "      <td>47.000000</td>\n",
              "    </tr>\n",
              "    <tr>\n",
              "      <th>75%</th>\n",
              "      <td>7.400000</td>\n",
              "      <td>75.000000</td>\n",
              "    </tr>\n",
              "    <tr>\n",
              "      <th>max</th>\n",
              "      <td>9.200000</td>\n",
              "      <td>95.000000</td>\n",
              "    </tr>\n",
              "  </tbody>\n",
              "</table>\n",
              "</div>"
            ],
            "text/plain": [
              "           Hours     Scores\n",
              "count  25.000000  25.000000\n",
              "mean    5.012000  51.480000\n",
              "std     2.525094  25.286887\n",
              "min     1.100000  17.000000\n",
              "25%     2.700000  30.000000\n",
              "50%     4.800000  47.000000\n",
              "75%     7.400000  75.000000\n",
              "max     9.200000  95.000000"
            ]
          },
          "metadata": {
            "tags": []
          },
          "execution_count": 6
        }
      ]
    },
    {
      "cell_type": "markdown",
      "metadata": {
        "id": "W7TiBeIII80J"
      },
      "source": [
        "To build Models, Null values are not allowed in the dataset. So, it is always important to see how many samples have missing values"
      ]
    },
    {
      "cell_type": "code",
      "metadata": {
        "id": "1v0uU_0DI80L",
        "colab": {
          "base_uri": "https://localhost:8080/"
        },
        "outputId": "9862859b-0234-43be-9562-05013b6adc41"
      },
      "source": [
        "df.isnull().sum()"
      ],
      "execution_count": null,
      "outputs": [
        {
          "output_type": "execute_result",
          "data": {
            "text/plain": [
              "Hours     0\n",
              "Scores    0\n",
              "dtype: int64"
            ]
          },
          "metadata": {
            "tags": []
          },
          "execution_count": 7
        }
      ]
    },
    {
      "cell_type": "markdown",
      "metadata": {
        "id": "TwoKtPwuI80M"
      },
      "source": [
        "No null values present in the dataset "
      ]
    },
    {
      "cell_type": "code",
      "metadata": {
        "id": "Y1llcrLqI80N",
        "colab": {
          "base_uri": "https://localhost:8080/",
          "height": 350
        },
        "outputId": "fdf8c228-af36-4e1b-f05d-fe0b31639a7e"
      },
      "source": [
        "plt.figure(figsize=(5,5))\n",
        "plt.scatter(df['Hours'], df['Scores'], color=\"blue\")\n",
        "plt.title(\"Visualizing the Data\")\n",
        "plt.xlabel(\"No. of Hours\")\n",
        "plt.ylabel(\"Scores\")\n",
        "plt.grid()"
      ],
      "execution_count": null,
      "outputs": [
        {
          "output_type": "display_data",
          "data": {
            "image/png": "[encoded data removed]",
            "text/plain": [
              "<Figure size 360x360 with 1 Axes>"
            ]
          },
          "metadata": {
            "tags": [],
            "needs_background": "light"
          }
        }
      ]
    },
    {
      "cell_type": "markdown",
      "metadata": {
        "id": "6S_-VNH0I80P"
      },
      "source": [
        "##### As there exists linear relationship between Scores and No. of Hours, We can use simple linear regression on our dataset"
      ]
    },
    {
      "cell_type": "markdown",
      "metadata": {
        "id": "7ZvJK-LiI80P"
      },
      "source": [
        "<h2 style=\"color:#10124d\">Preparing the Data</h2>"
      ]
    },
    {
      "cell_type": "code",
      "metadata": {
        "id": "mJjExm85I80Q",
        "colab": {
          "base_uri": "https://localhost:8080/"
        },
        "outputId": "8d082cf1-2ba8-4d06-fa26-60f2fe633295"
      },
      "source": [
        "X = df.iloc[:,:-1].values\n",
        "y = df.iloc[:,1].values\n",
        "print(X)\n",
        "print(y)\n"
      ],
      "execution_count": null,
      "outputs": [
        {
          "output_type": "stream",
          "text": [
            "[[2.5]\n",
            " [5.1]\n",
            " [3.2]\n",
            " [8.5]\n",
            " [3.5]\n",
            " [1.5]\n",
            " [9.2]\n",
            " [5.5]\n",
            " [8.3]\n",
            " [2.7]\n",
            " [7.7]\n",
            " [5.9]\n",
            " [4.5]\n",
            " [3.3]\n",
            " [1.1]\n",
            " [8.9]\n",
            " [2.5]\n",
            " [1.9]\n",
            " [6.1]\n",
            " [7.4]\n",
            " [2.7]\n",
            " [4.8]\n",
            " [3.8]\n",
            " [6.9]\n",
            " [7.8]]\n",
            "[21 47 27 75 30 20 88 60 81 25 85 62 41 42 17 95 30 24 67 69 30 54 35 76\n",
            " 86]\n"
          ],
          "name": "stdout"
        }
      ]
    },
    {
      "cell_type": "markdown",
      "metadata": {
        "id": "FjLXc24gI80R"
      },
      "source": [
        "<h2 style=\"color:#10124d\">Simple Linear Regression</h2>"
      ]
    },
    {
      "cell_type": "markdown",
      "metadata": {
        "id": "Tfc2qV79I80S"
      },
      "source": [
        "<h3 style=\"color:#10124d\">Train Test Split</h3>"
      ]
    },
    {
      "cell_type": "markdown",
      "metadata": {
        "id": "cql-zQbgI80T"
      },
      "source": [
        "The train-test split is a technique for evaluating the performance of a machine learning algorithm."
      ]
    },
    {
      "cell_type": "code",
      "metadata": {
        "id": "XlqJlvx0I80U"
      },
      "source": [
        "from sklearn.model_selection import train_test_split\n",
        "X_train, X_test, y_train, y_test = train_test_split(X,y, test_size=0.2, random_state=0)"
      ],
      "execution_count": null,
      "outputs": []
    },
    {
      "cell_type": "markdown",
      "metadata": {
        "id": "ed2Rgr7XI80V"
      },
      "source": [
        "We have trained our dataset and now it's time to train our model"
      ]
    },
    {
      "cell_type": "markdown",
      "metadata": {
        "id": "5DdMNP8CI80X"
      },
      "source": [
        "<h3 style=\"color:#10124d\">Training</h3>"
      ]
    },
    {
      "cell_type": "code",
      "metadata": {
        "id": "mHYYtGoqI80a"
      },
      "source": [
        "from sklearn.linear_model import LinearRegression"
      ],
      "execution_count": null,
      "outputs": []
    },
    {
      "cell_type": "markdown",
      "metadata": {
        "id": "CsDEgkGbI80e"
      },
      "source": [
        "Make an instance of the model "
      ]
    },
    {
      "cell_type": "code",
      "metadata": {
        "id": "JRRehCGLI80f",
        "colab": {
          "base_uri": "https://localhost:8080/"
        },
        "outputId": "1dfebbcb-e621-4628-9904-0eb829f24b81"
      },
      "source": [
        "reg = LinearRegression()\n",
        "reg.fit(X_train,y_train)"
      ],
      "execution_count": null,
      "outputs": [
        {
          "output_type": "execute_result",
          "data": {
            "text/plain": [
              "LinearRegression(copy_X=True, fit_intercept=True, n_jobs=None, normalize=False)"
            ]
          },
          "metadata": {
            "tags": []
          },
          "execution_count": 12
        }
      ]
    },
    {
      "cell_type": "markdown",
      "metadata": {
        "id": "Mxdgf99jI80h"
      },
      "source": [
        "<h3 style=\"color:#10124d\">Equation of line of Regression</h3>"
      ]
    },
    {
      "cell_type": "code",
      "metadata": {
        "id": "DUvmPgdJI80i",
        "colab": {
          "base_uri": "https://localhost:8080/"
        },
        "outputId": "75cba5e6-1b4e-4bcf-ec3c-939702622bc9"
      },
      "source": [
        "a = reg.intercept_\n",
        "b = reg.coef_\n",
        "print(\"Equation of line => y = {:.2f} + {:.2f}x\".format(a, b[0]) )"
      ],
      "execution_count": null,
      "outputs": [
        {
          "output_type": "stream",
          "text": [
            "Equation of line => y = 2.02 + 9.91x\n"
          ],
          "name": "stdout"
        }
      ]
    },
    {
      "cell_type": "code",
      "metadata": {
        "id": "hORvYDytI80k",
        "colab": {
          "base_uri": "https://localhost:8080/",
          "height": 381
        },
        "outputId": "32e7fa9e-0b0f-4b87-e005-fda42c19d8eb"
      },
      "source": [
        "plt.figure(figsize=(10,5))\n",
        "plt.scatter(X_train, y_train, color='red')\n",
        "plt.plot(X_train, reg.predict(X_train), color=\"green\")\n",
        "plt.title(\"Linear Regression Plot with equation y = 2.02 + 9.91x\", fontsize=20)\n",
        "plt.xlabel('No. of Study Hrs', fontsize=20,color='darkblue')\n",
        "plt.ylabel('Scores', fontsize=20,color='darkblue')"
      ],
      "execution_count": null,
      "outputs": [
        {
          "output_type": "execute_result",
          "data": {
            "text/plain": [
              "Text(0, 0.5, 'Scores')"
            ]
          },
          "metadata": {
            "tags": []
          },
          "execution_count": 14
        },
        {
          "output_type": "display_data",
          "data": {
            "image/png": "[encoded data removed]",
            "text/plain": [
              "<Figure size 720x360 with 1 Axes>"
            ]
          },
          "metadata": {
            "tags": [],
            "needs_background": "light"
          }
        }
      ]
    },
    {
      "cell_type": "markdown",
      "metadata": {
        "id": "r2-g93eyI80m"
      },
      "source": [
        "<h2 style=\"color:#10124d\">Predicting the Test Results</h2>"
      ]
    },
    {
      "cell_type": "markdown",
      "metadata": {
        "id": "5YlsilQsI80n"
      },
      "source": [
        "Now that we have trained our algorithm, it's time to make some predictions."
      ]
    },
    {
      "cell_type": "code",
      "metadata": {
        "id": "SAYChTGgI80q"
      },
      "source": [
        "#Predicting the scores\n",
        "y_pred = reg.predict(X_test)"
      ],
      "execution_count": null,
      "outputs": []
    },
    {
      "cell_type": "markdown",
      "metadata": {
        "id": "34UIDmCNI80r"
      },
      "source": [
        "<h2 style=\"color:#10124d\">Measuring the Model Performance</h2>"
      ]
    },
    {
      "cell_type": "markdown",
      "metadata": {
        "id": "nqSv4wH8I80s"
      },
      "source": [
        "Comparing actual vs Predicted score "
      ]
    },
    {
      "cell_type": "code",
      "metadata": {
        "id": "dwxmeyJYI80t",
        "colab": {
          "base_uri": "https://localhost:8080/",
          "height": 204
        },
        "outputId": "e09cfc6d-6449-408c-f3b5-f1037b3f330f"
      },
      "source": [
        "data = {'Actual' : y_pred, \"Predicted\" : y_test}\n",
        "df = pd.DataFrame(data)  \n",
        "df "
      ],
      "execution_count": null,
      "outputs": [
        {
          "output_type": "execute_result",
          "data": {
            "text/html": [
              "<div>\n",
              "<style scoped>\n",
              "    .dataframe tbody tr th:only-of-type {\n",
              "        vertical-align: middle;\n",
              "    }\n",
              "\n",
              "    .dataframe tbody tr th {\n",
              "        vertical-align: top;\n",
              "    }\n",
              "\n",
              "    .dataframe thead th {\n",
              "        text-align: right;\n",
              "    }\n",
              "</style>\n",
              "<table border=\"1\" class=\"dataframe\">\n",
              "  <thead>\n",
              "    <tr style=\"text-align: right;\">\n",
              "      <th></th>\n",
              "      <th>Actual</th>\n",
              "      <th>Predicted</th>\n",
              "    </tr>\n",
              "  </thead>\n",
              "  <tbody>\n",
              "    <tr>\n",
              "      <th>0</th>\n",
              "      <td>16.884145</td>\n",
              "      <td>20</td>\n",
              "    </tr>\n",
              "    <tr>\n",
              "      <th>1</th>\n",
              "      <td>33.732261</td>\n",
              "      <td>27</td>\n",
              "    </tr>\n",
              "    <tr>\n",
              "      <th>2</th>\n",
              "      <td>75.357018</td>\n",
              "      <td>69</td>\n",
              "    </tr>\n",
              "    <tr>\n",
              "      <th>3</th>\n",
              "      <td>26.794801</td>\n",
              "      <td>30</td>\n",
              "    </tr>\n",
              "    <tr>\n",
              "      <th>4</th>\n",
              "      <td>60.491033</td>\n",
              "      <td>62</td>\n",
              "    </tr>\n",
              "  </tbody>\n",
              "</table>\n",
              "</div>"
            ],
            "text/plain": [
              "      Actual  Predicted\n",
              "0  16.884145         20\n",
              "1  33.732261         27\n",
              "2  75.357018         69\n",
              "3  26.794801         30\n",
              "4  60.491033         62"
            ]
          },
          "metadata": {
            "tags": []
          },
          "execution_count": 16
        }
      ]
    },
    {
      "cell_type": "code",
      "metadata": {
        "id": "FKZO8QEcI80u",
        "colab": {
          "base_uri": "https://localhost:8080/"
        },
        "outputId": "f255d30c-e162-40fe-cba5-070798a489cc"
      },
      "source": [
        "reg.score(X_test, y_test)"
      ],
      "execution_count": null,
      "outputs": [
        {
          "output_type": "execute_result",
          "data": {
            "text/plain": [
              "0.9454906892105354"
            ]
          },
          "metadata": {
            "tags": []
          },
          "execution_count": 17
        }
      ]
    },
    {
      "cell_type": "markdown",
      "metadata": {
        "id": "fcWyo4f5I80v"
      },
      "source": [
        "#### Accuracy - 94.5%"
      ]
    },
    {
      "cell_type": "markdown",
      "metadata": {
        "id": "LDxt0xktI80w"
      },
      "source": [
        "We can also test with our own data"
      ]
    },
    {
      "cell_type": "markdown",
      "metadata": {
        "id": "j1dZjR39I80w"
      },
      "source": [
        "### Now let's Predict, What will be the Score if student studies 9.25hrs/day?"
      ]
    },
    {
      "cell_type": "code",
      "metadata": {
        "id": "bVZKbKRNI80x",
        "colab": {
          "base_uri": "https://localhost:8080/"
        },
        "outputId": "2bda95c5-4067-4e3f-fda1-dc25391bb705"
      },
      "source": [
        "hours = 9.25\n",
        "reg.predict(np.array(hours).reshape(-1,1))"
      ],
      "execution_count": null,
      "outputs": [
        {
          "output_type": "execute_result",
          "data": {
            "text/plain": [
              "array([93.69173249])"
            ]
          },
          "metadata": {
            "tags": []
          },
          "execution_count": 18
        }
      ]
    },
    {
      "cell_type": "markdown",
      "metadata": {
        "id": "8ygvdmw9I80y"
      },
      "source": [
        "<h2 style=\"color:#10124d\">Evaluating the Model </h2>"
      ]
    },
    {
      "cell_type": "code",
      "metadata": {
        "id": "EgSsCXa8I80z"
      },
      "source": [
        "from sklearn import metrics"
      ],
      "execution_count": null,
      "outputs": []
    },
    {
      "cell_type": "code",
      "metadata": {
        "id": "XhnjHC8RI800",
        "colab": {
          "base_uri": "https://localhost:8080/"
        },
        "outputId": "7cde0347-fc08-4e2c-9a51-d09c776c4aff"
      },
      "source": [
        "print('Mean Absolute Error : ',metrics.mean_absolute_error(y_test, y_pred)) "
      ],
      "execution_count": null,
      "outputs": [
        {
          "output_type": "stream",
          "text": [
            "Mean Absolute Error :  4.183859899002982\n"
          ],
          "name": "stdout"
        }
      ]
    },
    {
      "cell_type": "code",
      "metadata": {
        "id": "9b23v_RQI801",
        "colab": {
          "base_uri": "https://localhost:8080/"
        },
        "outputId": "aa92eab4-1915-4129-a91f-4324241876c9"
      },
      "source": [
        "print('Mean Squared Errror : ',metrics.mean_squared_error(y_test, y_pred))"
      ],
      "execution_count": null,
      "outputs": [
        {
          "output_type": "stream",
          "text": [
            "Mean Squared Errror :  21.598769307217456\n"
          ],
          "name": "stdout"
        }
      ]
    },
    {
      "cell_type": "markdown",
      "metadata": {
        "id": "CyEsgVilI801"
      },
      "source": [
        "<h2>Conclusion -> Predicted score if a student studies for 9.25 hrs/ day = 93.69173249<h2>"
      ]
    }
  ]
}